{
 "cells": [
  {
   "cell_type": "code",
   "execution_count": 2,
   "metadata": {},
   "outputs": [
    {
     "name": "stderr",
     "output_type": "stream",
     "text": [
      "C:\\Users\\prath\\AppData\\Roaming\\Python\\Python39\\site-packages\\IPython\\core\\interactiveshell.py:3155: DtypeWarning: Columns (4,6,31,33,61,62,63,76,79,90,92,94,96,114,115,121) have mixed types.Specify dtype option on import or set low_memory=False.\n",
      "  has_raised = await self.run_ast_nodes(code_ast.body, cell_name,\n"
     ]
    },
    {
     "name": "stdout",
     "output_type": "stream",
     "text": [
      "--------------------------------------------TERRORIST ACTION IN 1970 AND AFFECTED LOCATIONS--------------------------------\n",
      "<folium.folium.Map object at 0x00000141D2BDF4F0>\n",
      "84% of the terrorist attacks in 1970 were carried out on the American continent. Middle East and North Africa, currently being the centre of terrorism, in 1970,faced only one terrorist attack.\n"
     ]
    }
   ],
   "source": [
    "import numpy as np\n",
    "import pandas as pd\n",
    "import seaborn as sns\n",
    "import matplotlib.pyplot as plt\n",
    "import folium\n",
    "from folium.plugins import MarkerCluster\n",
    "\n",
    "df = pd.read_csv(r\"P:\\CODE\\sparks_task_terrorism\\terrorism dataset\\globalterrorismdb_0718dist.csv\",encoding='latin1')\n",
    "print(\"--------------------------------------------TERRORIST ACTION IN 1970 AND AFFECTED LOCATIONS--------------------------------\")\n",
    "filterYear = df['iyear'] == 1970\n",
    "filterData = df[filterYear] \n",
    "\n",
    "reqFilterData = filterData.loc[:,'city':'longitude'] \n",
    "reqFilterData = reqFilterData.dropna() \n",
    "reqFilterDataList = reqFilterData.values.tolist()\n",
    "# reqFilterDataList\n",
    "map = folium.Map(location = [0, 30], tiles='CartoDB positron', zoom_start=2)\n",
    "# clustered marker\n",
    "markerCluster = folium.plugins.MarkerCluster().add_to(map)\n",
    "for point in range(0, len(reqFilterDataList)):\n",
    "    folium.Marker(location=[reqFilterDataList[point][1],reqFilterDataList[point][2]], popup = reqFilterDataList[point][0]).add_to(markerCluster)\n",
    "print(map)\n",
    "print(\"84% of the terrorist attacks in 1970 were carried out on the American continent. Middle East and North Africa, currently being the centre of terrorism, in 1970,faced only one terrorist attack.\")"
   ]
  }
 ],
 "metadata": {
  "interpreter": {
   "hash": "a7d8fe62fb4184f1e95077c26f1e772eee44bb410b5f17cbfae9daffd5dbf7a7"
  },
  "kernelspec": {
   "display_name": "Python 3.9.2 64-bit",
   "language": "python",
   "name": "python3"
  },
  "language_info": {
   "codemirror_mode": {
    "name": "ipython",
    "version": 3
   },
   "file_extension": ".py",
   "mimetype": "text/x-python",
   "name": "python",
   "nbconvert_exporter": "python",
   "pygments_lexer": "ipython3",
   "version": "3.9.2"
  },
  "orig_nbformat": 4
 },
 "nbformat": 4,
 "nbformat_minor": 2
}
