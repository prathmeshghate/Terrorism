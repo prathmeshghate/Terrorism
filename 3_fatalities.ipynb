{
 "cells": [
  {
   "cell_type": "code",
   "execution_count": 2,
   "metadata": {},
   "outputs": [
    {
     "name": "stderr",
     "output_type": "stream",
     "text": [
      "C:\\Users\\prath\\AppData\\Roaming\\Python\\Python39\\site-packages\\IPython\\core\\interactiveshell.py:3155: DtypeWarning: Columns (4,6,31,33,61,62,63,76,79,90,92,94,96,114,115,121) have mixed types.Specify dtype option on import or set low_memory=False.\n",
      "  has_raised = await self.run_ast_nodes(code_ast.body, cell_name,\n"
     ]
    },
    {
     "name": "stdout",
     "output_type": "stream",
     "text": [
      "TOTAL FATALITIES IN TERRORIST ATTACK: 411868\n",
      "Let's look at what types of attacks these deaths were made of.\n",
      "attacktype1_txt  Armed Assault  Assassination  Bombing/Explosion  \\\n",
      "nkill                 160297.0        24920.0           157321.0   \n",
      "\n",
      "attacktype1_txt  Facility/Infrastructure Attack  Hijacking  \\\n",
      "nkill                                    3642.0     3718.0   \n",
      "\n",
      "attacktype1_txt  Hostage Taking (Barricade Incident)  \\\n",
      "nkill                                         4478.0   \n",
      "\n",
      "attacktype1_txt  Hostage Taking (Kidnapping)  Unarmed Assault  Unknown  \n",
      "nkill                                24231.0            880.0  32381.0  \n",
      "<class 'pandas.core.frame.DataFrame'>\n",
      "Index: 1 entries, nkill to nkill\n",
      "Data columns (total 9 columns):\n",
      " #   Column                               Non-Null Count  Dtype  \n",
      "---  ------                               --------------  -----  \n",
      " 0   Armed Assault                        1 non-null      float64\n",
      " 1   Assassination                        1 non-null      float64\n",
      " 2   Bombing/Explosion                    1 non-null      float64\n",
      " 3   Facility/Infrastructure Attack       1 non-null      float64\n",
      " 4   Hijacking                            1 non-null      float64\n",
      " 5   Hostage Taking (Barricade Incident)  1 non-null      float64\n",
      " 6   Hostage Taking (Kidnapping)          1 non-null      float64\n",
      " 7   Unarmed Assault                      1 non-null      float64\n",
      " 8   Unknown                              1 non-null      float64\n",
      "dtypes: float64(9)\n",
      "memory usage: 80.0+ bytes\n",
      "None\n"
     ]
    }
   ],
   "source": [
    "import numpy as np\n",
    "import pandas as pd\n",
    "import seaborn as sns\n",
    "import matplotlib.pyplot as plt\n",
    "import folium\n",
    "from folium.plugins import MarkerCluster\n",
    "df = pd.read_csv(r\"P:\\CODE\\sparks_task_terrorism\\terrorism dataset\\globalterrorismdb_0718dist.csv\",encoding='latin1')\n",
    "killData = df.loc[:,'nkill']\n",
    "print('TOTAL FATALITIES IN TERRORIST ATTACK:', int(sum(killData.dropna())))\n",
    "\n",
    "print(\"Let's look at what types of attacks these deaths were made of.\")\n",
    "attackData = df.loc[:,'attacktype1':'attacktype1_txt']\n",
    "\n",
    "typeKillData = pd.concat([attackData, killData], axis=1)\n",
    "typeKillFormatData = typeKillData.pivot_table(columns='attacktype1_txt', values='nkill', aggfunc='sum')\n",
    "print(typeKillFormatData)\n",
    "print(typeKillFormatData.info())"
   ]
  }
 ],
 "metadata": {
  "interpreter": {
   "hash": "a7d8fe62fb4184f1e95077c26f1e772eee44bb410b5f17cbfae9daffd5dbf7a7"
  },
  "kernelspec": {
   "display_name": "Python 3.9.2 64-bit",
   "language": "python",
   "name": "python3"
  },
  "language_info": {
   "codemirror_mode": {
    "name": "ipython",
    "version": 3
   },
   "file_extension": ".py",
   "mimetype": "text/x-python",
   "name": "python",
   "nbconvert_exporter": "python",
   "pygments_lexer": "ipython3",
   "version": "3.9.2"
  },
  "orig_nbformat": 4
 },
 "nbformat": 4,
 "nbformat_minor": 2
}
