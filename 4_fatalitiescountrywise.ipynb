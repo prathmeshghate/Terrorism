{
 "cells": [
  {
   "cell_type": "code",
   "execution_count": 2,
   "metadata": {},
   "outputs": [
    {
     "name": "stderr",
     "output_type": "stream",
     "text": [
      "C:\\Users\\prath\\AppData\\Roaming\\Python\\Python39\\site-packages\\IPython\\core\\interactiveshell.py:3155: DtypeWarning: Columns (4,6,31,33,61,62,63,76,79,90,92,94,96,114,115,121) have mixed types.Specify dtype option on import or set low_memory=False.\n",
      "  has_raised = await self.run_ast_nodes(code_ast.body, cell_name,\n"
     ]
    },
    {
     "name": "stdout",
     "output_type": "stream",
     "text": [
      "--------------------->NUMBER OF PEOPLE KILLED BY TERRORIST ATTACKS 411868\n",
      "Let's look at what types of attacks these deaths were made of.\n",
      "-----------------------------NUMBER OF PEOPLE KILLED Vs. COUNTRIES-----------------------\n",
      "country_txt  Afghanistan  Albania  Algeria  Andorra  Angola  \\\n",
      "nkill            39384.0     42.0  11066.0      0.0  3043.0   \n",
      "\n",
      "country_txt  Antigua and Barbuda  Argentina  Armenia  Australia  Austria  ...  \\\n",
      "nkill                        0.0      490.0     37.0       23.0     30.0  ...   \n",
      "\n",
      "country_txt  Vietnam  Wallis and Futuna  West Bank and Gaza Strip  \\\n",
      "nkill            1.0                0.0                    1500.0   \n",
      "\n",
      "country_txt  West Germany (FRG)  Western Sahara   Yemen  Yugoslavia  Zaire  \\\n",
      "nkill                      97.0             1.0  8776.0       119.0  324.0   \n",
      "\n",
      "country_txt  Zambia  Zimbabwe  \n",
      "nkill          70.0     154.0  \n",
      "\n",
      "[1 rows x 205 columns]\n"
     ]
    }
   ],
   "source": [
    "import numpy as np\n",
    "import pandas as pd\n",
    "import seaborn as sns\n",
    "import matplotlib.pyplot as plt\n",
    "import folium\n",
    "from folium.plugins import MarkerCluster\n",
    "\n",
    "\n",
    "df = pd.read_csv(r\"P:\\CODE\\sparks_task_terrorism\\terrorism dataset\\globalterrorismdb_0718dist.csv\",encoding='latin1')\n",
    "killData = df.loc[:,'nkill']\n",
    "\n",
    "\n",
    "print('--------------------->NUMBER OF PEOPLE KILLED BY TERRORIST ATTACKS', int(sum(killData.dropna())))\n",
    "\n",
    "print(\"Let's look at what types of attacks these deaths were made of.\")\n",
    "attackData = df.loc[:,'attacktype1':'attacktype1_txt']\n",
    "\n",
    "#data for the attacks\n",
    "typeKillData = pd.concat([attackData, killData], axis=1)\n",
    "typeKillFormatData = typeKillData.pivot_table(columns='attacktype1_txt', values='nkill', aggfunc='sum')\n",
    "\n",
    "\n",
    "print(\"-----------------------------NUMBER OF PEOPLE KILLED Vs. COUNTRIES-----------------------\")\n",
    "countryData = df.loc[:,'country':'country_txt']\n",
    "\n",
    "#data for all countries involved\n",
    "countryKillData = pd.concat([countryData, killData], axis=1) \n",
    "countryKillFormatData = countryKillData.pivot_table(columns='country_txt', values='nkill', aggfunc='sum')\n",
    "print(countryKillFormatData)"
   ]
  }
 ],
 "metadata": {
  "interpreter": {
   "hash": "a7d8fe62fb4184f1e95077c26f1e772eee44bb410b5f17cbfae9daffd5dbf7a7"
  },
  "kernelspec": {
   "display_name": "Python 3.9.2 64-bit",
   "language": "python",
   "name": "python3"
  },
  "language_info": {
   "codemirror_mode": {
    "name": "ipython",
    "version": 3
   },
   "file_extension": ".py",
   "mimetype": "text/x-python",
   "name": "python",
   "nbconvert_exporter": "python",
   "pygments_lexer": "ipython3",
   "version": "3.9.2"
  },
  "orig_nbformat": 4
 },
 "nbformat": 4,
 "nbformat_minor": 2
}
